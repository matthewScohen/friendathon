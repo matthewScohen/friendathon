{
 "cells": [
  {
   "cell_type": "code",
   "execution_count": 40,
   "metadata": {
    "collapsed": true
   },
   "outputs": [],
   "source": [
    "import numpy as np\n",
    "import os\n",
    "import scipy\n",
    "from gensim.test.utils import datapath, get_tmpfile\n",
    "from gensim.models import KeyedVectors\n",
    "from gensim.scripts.glove2word2vec import glove2word2vec"
   ]
  },
  {
   "cell_type": "code",
   "execution_count": 84,
   "outputs": [
    {
     "name": "stderr",
     "output_type": "stream",
     "text": [
      "C:\\Users\\Owner\\AppData\\Local\\Temp\\ipykernel_8996\\3660045629.py:3: DeprecationWarning: Call to deprecated `glove2word2vec` (KeyedVectors.load_word2vec_format(.., binary=False, no_header=True) loads GLoVE text vectors.).\n",
      "  _ = glove2word2vec(glove_file, tmp_file)\n"
     ]
    }
   ],
   "source": [
    "glove_file = datapath(os.path.abspath('data/glove.6B.300d.txt'))\n",
    "tmp_file = get_tmpfile(\"test_word2vec.txt\")\n",
    "_ = glove2word2vec(glove_file, tmp_file)\n",
    "model = KeyedVectors.load_word2vec_format(tmp_file)"
   ],
   "metadata": {
    "collapsed": false
   }
  },
  {
   "cell_type": "code",
   "execution_count": 101,
   "outputs": [],
   "source": [
    "model.sort_by_descending_frequency()"
   ],
   "metadata": {
    "collapsed": false
   }
  },
  {
   "cell_type": "code",
   "execution_count": 73,
   "outputs": [
    {
     "name": "stdout",
     "output_type": "stream",
     "text": [
      "0.6336469\n",
      "0.2231067\n",
      "0.12324726\n",
      "0.16535372\n",
      "0.063374296\n",
      "0.4094217\n",
      "0.4485258\n",
      "0.52248627\n",
      "0.5606488\n"
     ]
    }
   ],
   "source": [
    "# model.distances(\"king\", [\"car\", \"queen\", \"man\", \"jack\", \"woman\"])\n",
    "print(model.similarity(\"king\", \"queen\"))\n",
    "print(model.similarity(\"king\", \"jack\"))\n",
    "print(model.similarity(\"king\", \"car\"))\n",
    "print(model.similarity(\"king\", \"fish\"))\n",
    "print(model.similarity(\"king\", \"turtle\"))\n",
    "print(model.similarity(\"fish\", \"turtle\"))\n",
    "print(model.similarity(\"goldfish\", \"koi\"))\n",
    "print(model.similarity(\"king\", \"crown\"))\n",
    "print(model.similarity(\"king\", \"throne\"))"
   ],
   "metadata": {
    "collapsed": false
   }
  },
  {
   "cell_type": "code",
   "execution_count": 77,
   "outputs": [
    {
     "data": {
      "text/plain": "[('salmon', 0.6541995406150818),\n ('tuna', 0.6304336786270142),\n ('shrimp', 0.6116418242454529),\n ('meat', 0.6113753914833069),\n ('seafood', 0.605174720287323),\n ('fishes', 0.604816734790802),\n ('trout', 0.5963797569274902),\n ('eat', 0.5483304262161255),\n ('fishing', 0.5461738705635071),\n ('shark', 0.5428288578987122)]"
     },
     "execution_count": 77,
     "metadata": {},
     "output_type": "execute_result"
    }
   ],
   "source": [
    "model.most_similar(\"fish\")"
   ],
   "metadata": {
    "collapsed": false
   }
  },
  {
   "cell_type": "code",
   "execution_count": 22,
   "outputs": [],
   "source": [
    "def word_similarity(word1: str, word2: str, encoding_model) -> float:\n",
    "    distance = scipy.spatial.distance.euclidean(encoding_model[word1], encoding_model[word2])\n",
    "    return distance"
   ],
   "metadata": {
    "collapsed": false
   }
  },
  {
   "cell_type": "code",
   "execution_count": 33,
   "outputs": [
    {
     "data": {
      "text/plain": "5.509447667801142"
     },
     "execution_count": 33,
     "metadata": {},
     "output_type": "execute_result"
    }
   ],
   "source": [
    "word1 = \"toyota\"\n",
    "word2 = \"honda\"\n",
    "\n",
    "word_similarity(word1, word2, model)"
   ],
   "metadata": {
    "collapsed": false
   }
  },
  {
   "cell_type": "code",
   "execution_count": 79,
   "outputs": [
    {
     "data": {
      "text/plain": "[('camry', 0.634617805480957),\n ('rav4', 0.5531828999519348),\n ('corollas', 0.5511930584907532),\n ('toyota', 0.5509843230247498),\n ('hatchback', 0.550690233707428),\n ('sedan', 0.5453417897224426),\n ('yaris', 0.5359854698181152),\n ('prius', 0.5339162349700928),\n ('sedans', 0.5198630094528198),\n ('tercel', 0.5056036114692688)]"
     },
     "execution_count": 79,
     "metadata": {},
     "output_type": "execute_result"
    }
   ],
   "source": [
    "model.most_similar(\"corolla\")"
   ],
   "metadata": {
    "collapsed": false
   }
  },
  {
   "cell_type": "code",
   "execution_count": 100,
   "outputs": [
    {
     "data": {
      "text/plain": "[('peake', 0.48120614886283875),\n ('wallabies', 0.39346224069595337),\n ('croom', 0.3829837143421173),\n ('dervla', 0.38141125440597534),\n ('charlesworth', 0.3736904263496399),\n ('wallaby', 0.37211546301841736),\n ('alcock', 0.3676917254924774),\n ('mceuen', 0.3651144206523895),\n ('lomu', 0.3630010485649109),\n ('bilic', 0.361842542886734)]"
     },
     "execution_count": 100,
     "metadata": {},
     "output_type": "execute_result"
    }
   ],
   "source": [
    "model.most_similar(model.index_to_key[42000])"
   ],
   "metadata": {
    "collapsed": false
   }
  },
  {
   "cell_type": "code",
   "execution_count": 112,
   "outputs": [
    {
     "data": {
      "text/plain": "['technique',\n 'inspection',\n 'situations',\n 'symptoms',\n 'risen',\n 'properly',\n 'ferry',\n 'folk',\n 'foods',\n 'derby',\n '1951',\n 'achievement',\n 'demonstrated',\n 'preserve',\n 'dropping']"
     },
     "execution_count": 112,
     "metadata": {},
     "output_type": "execute_result"
    }
   ],
   "source": [
    "i = 5000\n",
    "model.index_to_key[i:i+15]"
   ],
   "metadata": {
    "collapsed": false
   }
  },
  {
   "cell_type": "code",
   "execution_count": 120,
   "outputs": [
    {
     "data": {
      "text/plain": "[('queen', 0.6336469054222107),\n ('prince', 0.6196622848510742),\n ('monarch', 0.5899620652198792),\n ('kingdom', 0.5791266560554504),\n ('throne', 0.5606487989425659),\n ('ii', 0.5562329292297363),\n ('iii', 0.5503199100494385),\n ('crown', 0.5224862694740295),\n ('reign', 0.5217353701591492),\n ('kings', 0.5066401958465576)]"
     },
     "execution_count": 120,
     "metadata": {},
     "output_type": "execute_result"
    }
   ],
   "source": [
    "model.most_similar(positive=[\"king\"])"
   ],
   "metadata": {
    "collapsed": false
   }
  },
  {
   "cell_type": "code",
   "execution_count": 150,
   "outputs": [],
   "source": [
    "def generate_category(starting_word: str, model):\n",
    "    words = [starting_word]\n",
    "    for _ in range(3):\n",
    "        words.append(model.most_similar(positive=words, restrict_vocab=10_000)[0])\n",
    "    return words"
   ],
   "metadata": {
    "collapsed": false
   }
  },
  {
   "cell_type": "code",
   "execution_count": 159,
   "outputs": [
    {
     "data": {
      "text/plain": "['pair',\n ('pairs', 0.7135139107704163),\n ('two', 0.5374454259872437),\n ('three', 0.6627466082572937)]"
     },
     "execution_count": 159,
     "metadata": {},
     "output_type": "execute_result"
    }
   ],
   "source": [
    "generate_category(\"pair\", model)"
   ],
   "metadata": {
    "collapsed": false
   }
  }
 ],
 "metadata": {
  "kernelspec": {
   "display_name": "Python 3",
   "language": "python",
   "name": "python3"
  },
  "language_info": {
   "codemirror_mode": {
    "name": "ipython",
    "version": 2
   },
   "file_extension": ".py",
   "mimetype": "text/x-python",
   "name": "python",
   "nbconvert_exporter": "python",
   "pygments_lexer": "ipython2",
   "version": "2.7.6"
  }
 },
 "nbformat": 4,
 "nbformat_minor": 0
}
