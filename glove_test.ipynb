{
 "cells": [
  {
   "cell_type": "code",
   "execution_count": 1,
   "metadata": {
    "collapsed": true
   },
   "outputs": [],
   "source": [
    "import numpy as np\n",
    "import os\n",
    "import scipy\n",
    "from gensim.test.utils import datapath, get_tmpfile\n",
    "from gensim.models import KeyedVectors\n",
    "from gensim.scripts.glove2word2vec import glove2word2vec\n",
    "from nltk.corpus import wordnet"
   ]
  },
  {
   "cell_type": "code",
   "execution_count": 2,
   "metadata": {
    "collapsed": false
   },
   "outputs": [
    {
     "name": "stderr",
     "output_type": "stream",
     "text": [
      "/var/folders/4j/3n7l475x4pdfqqk77_9pvg400000gn/T/ipykernel_8309/2317610893.py:3: DeprecationWarning: Call to deprecated `glove2word2vec` (KeyedVectors.load_word2vec_format(.., binary=False, no_header=True) loads GLoVE text vectors.).\n",
      "  _ = glove2word2vec(glove_file, tmp_file)\n"
     ]
    }
   ],
   "source": [
    "glove_file = datapath(os.path.abspath('data/glove.6B.300d.txt'))\n",
    "tmp_file = get_tmpfile(\"test_word2vec.txt\")\n",
    "_ = glove2word2vec(glove_file, tmp_file)\n",
    "model = KeyedVectors.load_word2vec_format(tmp_file)\n",
    "model.save(\"data/vectors.kv\")"
   ]
  },
  {
   "cell_type": "code",
   "execution_count": 3,
   "metadata": {
    "collapsed": false
   },
   "outputs": [],
   "source": [
    "model.sort_by_descending_frequency()"
   ]
  },
  {
   "cell_type": "code",
   "execution_count": 4,
   "metadata": {
    "collapsed": false
   },
   "outputs": [
    {
     "name": "stdout",
     "output_type": "stream",
     "text": [
      "0.6336469\n",
      "0.2231067\n",
      "0.12324726\n",
      "0.16535373\n",
      "0.063374296\n",
      "0.4094217\n",
      "0.4485258\n",
      "0.52248627\n",
      "0.56064874\n"
     ]
    }
   ],
   "source": [
    "# model.distances(\"king\", [\"car\", \"queen\", \"man\", \"jack\", \"woman\"])\n",
    "print(model.similarity(\"king\", \"queen\"))\n",
    "print(model.similarity(\"king\", \"jack\"))\n",
    "print(model.similarity(\"king\", \"car\"))\n",
    "print(model.similarity(\"king\", \"fish\"))\n",
    "print(model.similarity(\"king\", \"turtle\"))\n",
    "print(model.similarity(\"fish\", \"turtle\"))\n",
    "print(model.similarity(\"goldfish\", \"koi\"))\n",
    "print(model.similarity(\"king\", \"crown\"))\n",
    "print(model.similarity(\"king\", \"throne\"))"
   ]
  },
  {
   "cell_type": "code",
   "execution_count": 5,
   "metadata": {
    "collapsed": false
   },
   "outputs": [
    {
     "data": {
      "text/plain": [
       "[('salmon', 0.6541996598243713),\n",
       " ('tuna', 0.6304338574409485),\n",
       " ('shrimp', 0.6116418242454529),\n",
       " ('meat', 0.6113753914833069),\n",
       " ('seafood', 0.605174720287323),\n",
       " ('fishes', 0.6048167943954468),\n",
       " ('trout', 0.5963797569274902),\n",
       " ('eat', 0.5483304262161255),\n",
       " ('fishing', 0.5461738705635071),\n",
       " ('shark', 0.5428288578987122)]"
      ]
     },
     "execution_count": 5,
     "metadata": {},
     "output_type": "execute_result"
    }
   ],
   "source": [
    "model.most_similar(\"fish\")"
   ]
  },
  {
   "cell_type": "code",
   "execution_count": 6,
   "metadata": {
    "collapsed": false
   },
   "outputs": [],
   "source": [
    "def word_similarity(word1: str, word2: str, encoding_model) -> float:\n",
    "    distance = scipy.spatial.distance.euclidean(encoding_model[word1], encoding_model[word2])\n",
    "    return distance"
   ]
  },
  {
   "cell_type": "code",
   "execution_count": 7,
   "metadata": {
    "collapsed": false
   },
   "outputs": [
    {
     "data": {
      "text/plain": [
       "5.5094475746154785"
      ]
     },
     "execution_count": 7,
     "metadata": {},
     "output_type": "execute_result"
    }
   ],
   "source": [
    "word1 = \"toyota\"\n",
    "word2 = \"honda\"\n",
    "\n",
    "word_similarity(word1, word2, model)"
   ]
  },
  {
   "cell_type": "code",
   "execution_count": 8,
   "metadata": {
    "collapsed": false
   },
   "outputs": [
    {
     "data": {
      "text/plain": [
       "[('camry', 0.634617805480957),\n",
       " ('rav4', 0.5531828999519348),\n",
       " ('corollas', 0.5511929392814636),\n",
       " ('toyota', 0.5509843230247498),\n",
       " ('hatchback', 0.550690233707428),\n",
       " ('sedan', 0.5453417897224426),\n",
       " ('yaris', 0.5359853506088257),\n",
       " ('prius', 0.5339162349700928),\n",
       " ('sedans', 0.5198630094528198),\n",
       " ('tercel', 0.5056036114692688)]"
      ]
     },
     "execution_count": 8,
     "metadata": {},
     "output_type": "execute_result"
    }
   ],
   "source": [
    "model.most_similar(\"corolla\")"
   ]
  },
  {
   "cell_type": "code",
   "execution_count": 9,
   "metadata": {
    "collapsed": false
   },
   "outputs": [
    {
     "data": {
      "text/plain": [
       "[('peake', 0.48120614886283875),\n",
       " ('wallabies', 0.3934621810913086),\n",
       " ('croom', 0.3829837441444397),\n",
       " ('dervla', 0.38141125440597534),\n",
       " ('charlesworth', 0.3736904263496399),\n",
       " ('wallaby', 0.37211552262306213),\n",
       " ('alcock', 0.3676917254924774),\n",
       " ('mceuen', 0.36511439085006714),\n",
       " ('lomu', 0.3630010187625885),\n",
       " ('bilic', 0.361842542886734)]"
      ]
     },
     "execution_count": 9,
     "metadata": {},
     "output_type": "execute_result"
    }
   ],
   "source": [
    "model.most_similar(model.index_to_key[42000])"
   ]
  },
  {
   "cell_type": "code",
   "execution_count": 10,
   "metadata": {
    "collapsed": false
   },
   "outputs": [
    {
     "data": {
      "text/plain": [
       "['technique',\n",
       " 'inspection',\n",
       " 'situations',\n",
       " 'symptoms',\n",
       " 'risen',\n",
       " 'properly',\n",
       " 'ferry',\n",
       " 'folk',\n",
       " 'foods',\n",
       " 'derby',\n",
       " '1951',\n",
       " 'achievement',\n",
       " 'demonstrated',\n",
       " 'preserve',\n",
       " 'dropping']"
      ]
     },
     "execution_count": 10,
     "metadata": {},
     "output_type": "execute_result"
    }
   ],
   "source": [
    "i = 5000\n",
    "model.index_to_key[i:i+15]"
   ]
  },
  {
   "cell_type": "code",
   "execution_count": 11,
   "metadata": {
    "collapsed": false
   },
   "outputs": [
    {
     "data": {
      "text/plain": [
       "[('queen', 0.6336469054222107),\n",
       " ('prince', 0.6196622252464294),\n",
       " ('monarch', 0.5899620652198792),\n",
       " ('kingdom', 0.5791267156600952),\n",
       " ('throne', 0.5606487393379211),\n",
       " ('ii', 0.5562329292297363),\n",
       " ('iii', 0.5503199100494385),\n",
       " ('crown', 0.5224862098693848),\n",
       " ('reign', 0.5217353701591492),\n",
       " ('kings', 0.5066401958465576)]"
      ]
     },
     "execution_count": 11,
     "metadata": {},
     "output_type": "execute_result"
    }
   ],
   "source": [
    "model.most_similar(positive=[\"king\"])"
   ]
  },
  {
   "cell_type": "code",
   "execution_count": 150,
   "metadata": {
    "collapsed": false
   },
   "outputs": [],
   "source": [
    "def generate_category(starting_word: str, model):\n",
    "    words = [starting_word]\n",
    "    for _ in range(3):\n",
    "        words.append(model.most_similar(positive=words, restrict_vocab=10_000)[0])\n",
    "    return words"
   ]
  },
  {
   "cell_type": "code",
   "execution_count": 159,
   "metadata": {
    "collapsed": false
   },
   "outputs": [
    {
     "data": {
      "text/plain": [
       "['pair',\n",
       " ('pairs', 0.7135139107704163),\n",
       " ('two', 0.5374454259872437),\n",
       " ('three', 0.6627466082572937)]"
      ]
     },
     "execution_count": 159,
     "metadata": {},
     "output_type": "execute_result"
    }
   ],
   "source": [
    "generate_category(\"pair\", model)"
   ]
  },
  {
   "cell_type": "code",
   "execution_count": 88,
   "metadata": {},
   "outputs": [],
   "source": [
    "from nltk.corpus import wordnet\n",
    "\n",
    "def get_pos(word):\n",
    "    synsets = wordnet.synsets(word)\n",
    "    pos_tags = set()\n",
    "    for synset in synsets:\n",
    "        pos_tags.add(synset.pos())\n",
    "    return pos_tags"
   ]
  },
  {
   "cell_type": "code",
   "execution_count": 93,
   "metadata": {},
   "outputs": [],
   "source": [
    "def enrich_with_wordnet(key: str, model, suppress_error=False):\n",
    "    try:\n",
    "        # Part of speech\n",
    "        pos = get_pos(key)\n",
    "        model.set_vecattr(key, \"pos\", pos)\n",
    "        # Synsets\n",
    "        synsets = wordnet.synsets(key)\n",
    "        model.set_vecattr(key, \"synsets\", synsets)\n",
    "        return True\n",
    "    except Exception as exc:\n",
    "        if not suppress_error:\n",
    "            print(\"Failed to enrich \\\"%s\\\", %s\" % (key, exc))\n",
    "        return False"
   ]
  },
  {
   "cell_type": "code",
   "execution_count": 94,
   "metadata": {},
   "outputs": [
    {
     "name": "stdout",
     "output_type": "stream",
     "text": [
      "{'n'}\n",
      "[Synset('baseball_glove.n.01'), Synset('glove.n.02'), Synset('boxing_glove.n.01')]\n"
     ]
    }
   ],
   "source": [
    "enrich_with_wordnet(\"glove\", model)\n",
    "print(model.get_vecattr(\"glove\", \"pos\"))\n",
    "print(model.get_vecattr(\"glove\", \"synsets\"))"
   ]
  },
  {
   "cell_type": "code",
   "execution_count": 95,
   "metadata": {},
   "outputs": [
    {
     "name": "stdout",
     "output_type": "stream",
     "text": [
      "400000 of 400000 words enriched\n"
     ]
    }
   ],
   "source": [
    "success_count = 0\n",
    "\n",
    "for key in model.key_to_index.keys():\n",
    "    success_count += enrich_with_wordnet(key, model, suppress_error=True)\n",
    "\n",
    "print(f\"{success_count} of {len(model.key_to_index)} words enriched\")"
   ]
  },
  {
   "cell_type": "code",
   "execution_count": 100,
   "metadata": {},
   "outputs": [
    {
     "name": "stdout",
     "output_type": "stream",
     "text": [
      "{'v', 'n'}\n",
      "[Synset('fish.n.01'), Synset('fish.n.02'), Synset('pisces.n.02'), Synset('pisces.n.01'), Synset('fish.v.01'), Synset('fish.v.02')]\n"
     ]
    }
   ],
   "source": [
    "print(model.get_vecattr(\"fish\", \"pos\"))\n",
    "print(model.get_vecattr(\"fish\", \"synsets\"))"
   ]
  }
 ],
 "metadata": {
  "kernelspec": {
   "display_name": "Python 3",
   "language": "python",
   "name": "python3"
  },
  "language_info": {
   "codemirror_mode": {
    "name": "ipython",
    "version": 3
   },
   "file_extension": ".py",
   "mimetype": "text/x-python",
   "name": "python",
   "nbconvert_exporter": "python",
   "pygments_lexer": "ipython3",
   "version": "3.9.18"
  }
 },
 "nbformat": 4,
 "nbformat_minor": 0
}
