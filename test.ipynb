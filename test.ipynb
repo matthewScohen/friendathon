{
 "cells": [
  {
   "cell_type": "code",
   "execution_count": 35,
   "outputs": [
    {
     "name": "stdout",
     "output_type": "stream",
     "text": [
      "By using this model checkpoint, you acknowledge that its usage is subject to the terms of the CreativeML Open RAIL-M license at https://raw.githubusercontent.com/CompVis/stable-diffusion/main/LICENSE\n"
     ]
    }
   ],
   "source": [
    "import scipy\n",
    "import json\n",
    "import keras_cv\n",
    "import keras\n",
    "import matplotlib.pyplot as plt\n",
    "from keras import ops\n",
    "import numpy as np\n",
    "from sklearn.discriminant_analysis import LinearDiscriminantAnalysis as LDA\n",
    "from sklearn.preprocessing import StandardScaler\n",
    "from sklearn.pipeline import Pipeline\n",
    "from sklearn.manifold import MDS, Isomap, LocallyLinearEmbedding\n",
    "# Enable mixed precision\n",
    "# (only do this if you have a recent NVIDIA GPU)\n",
    "keras.mixed_precision.set_global_policy(\"mixed_float16\")\n",
    "\n",
    "# Instantiate the Stable Diffusion model\n",
    "model = keras_cv.models.StableDiffusion(jit_compile=True)"
   ],
   "metadata": {
    "collapsed": false
   }
  },
  {
   "cell_type": "code",
   "execution_count": 3,
   "outputs": [
    {
     "name": "stdout",
     "output_type": "stream",
     "text": [
      "WARNING:tensorflow:From C:\\Users\\Owner\\Documents\\projects\\friendathon\\venv\\lib\\site-packages\\keras\\src\\backend\\tensorflow\\core.py:184: The name tf.placeholder is deprecated. Please use tf.compat.v1.placeholder instead.\n",
      "\n",
      "Encoding shape: (77, 768)\n"
     ]
    }
   ],
   "source": [
    "prompt_1 = \"A watercolor painting of a Golden Retriever at the beach\"\n",
    "prompt_2 = \"A still life DSLR photo of a bowl of fruit\"\n",
    "interpolation_steps = 5\n",
    "\n",
    "encoding_1 = ops.squeeze(model.encode_text(prompt_1))\n",
    "encoding_2 = ops.squeeze(model.encode_text(prompt_2))\n",
    "\n",
    "interpolated_encodings = ops.linspace(encoding_1, encoding_2, interpolation_steps)\n",
    "\n",
    "# Show the size of the latent manifold\n",
    "print(f\"Encoding shape: {encoding_1.shape}\")"
   ],
   "metadata": {
    "collapsed": false
   }
  },
  {
   "cell_type": "code",
   "execution_count": 61,
   "outputs": [],
   "source": [
    "def word_similarity(word1: str, word2: str, encoding_model) -> float:\n",
    "    encoding1 = encoding_model.encode_text(word1)\n",
    "    encoding2 = encoding_model.encode_text(word2)\n",
    "    distance = scipy.spatial.distance.euclidean(encoding1.flatten(), encoding2.flatten())\n",
    "\n",
    "    return distance"
   ],
   "metadata": {
    "collapsed": false
   }
  },
  {
   "cell_type": "code",
   "execution_count": 62,
   "outputs": [
    {
     "name": "stdout",
     "output_type": "stream",
     "text": [
      "248.2\n"
     ]
    }
   ],
   "source": [
    "word1 = \"king\"\n",
    "word2 = \"corolla\"\n",
    "print(word_similarity(word1, word2, model))"
   ],
   "metadata": {
    "collapsed": false
   }
  },
  {
   "cell_type": "code",
   "execution_count": 54,
   "outputs": [
    {
     "name": "stdout",
     "output_type": "stream",
     "text": [
      "(1, 77, 768)\n"
     ]
    }
   ],
   "source": [
    "print(model.encode_text(word2).shape)"
   ],
   "metadata": {
    "collapsed": false
   }
  },
  {
   "cell_type": "markdown",
   "source": [
    "# Dimensionality Reduction"
   ],
   "metadata": {
    "collapsed": false
   }
  },
  {
   "cell_type": "code",
   "execution_count": 38,
   "outputs": [],
   "source": [
    "with open(\"data/connections.json\") as file:\n",
    "        connections = json.load(file)"
   ],
   "metadata": {
    "collapsed": false
   }
  },
  {
   "cell_type": "code",
   "execution_count": 58,
   "outputs": [
    {
     "name": "stdout",
     "output_type": "stream",
     "text": [
      "(6032, 77, 768)\n"
     ]
    }
   ],
   "source": [
    "X_train = np.empty((16*(len(connections)), 77, 768))\n",
    "print(X_train.shape)"
   ],
   "metadata": {
    "collapsed": false
   }
  },
  {
   "cell_type": "code",
   "execution_count": 60,
   "outputs": [],
   "source": [
    "i = 0\n",
    "for puzzle in connections:\n",
    "    for level in puzzle[\"answers\"]:\n",
    "        for word in level[\"members\"]:\n",
    "            X_train[i] = model.encode_text(word)\n",
    "            i += 1"
   ],
   "metadata": {
    "collapsed": false
   }
  },
  {
   "cell_type": "code",
   "execution_count": null,
   "outputs": [],
   "source": [],
   "metadata": {
    "collapsed": false
   }
  },
  {
   "cell_type": "code",
   "execution_count": 31,
   "outputs": [],
   "source": [
    "lda = Pipeline([('scaler', StandardScaler()),\n",
    "               ('lda', LDA(n_components=2))])\n",
    "\n",
    "lda.fit(X_train, t_train)\n",
    "y_train_lda = lda.transform(X_train)"
   ],
   "metadata": {
    "collapsed": false
   }
  },
  {
   "cell_type": "code",
   "execution_count": null,
   "outputs": [],
   "source": [
    "mds = MDS(n_components=2, dissimilarity='euclidean', normalized_stress='auto')\n",
    "\n",
    "# new coordinates\n",
    "Y = mds.fit_transform(X_train)"
   ],
   "metadata": {
    "collapsed": false
   }
  },
  {
   "cell_type": "code",
   "execution_count": null,
   "outputs": [],
   "source": [
    "iso = Isomap(n_components=2)\n",
    "proj_isomap = iso.fit_transform(X_train)"
   ],
   "metadata": {
    "collapsed": false
   }
  },
  {
   "cell_type": "code",
   "execution_count": null,
   "outputs": [],
   "source": [
    "lle = LocallyLinearEmbedding(n_components=2)\n",
    "proj_lle = lle.fit_transform(X_train)"
   ],
   "metadata": {
    "collapsed": false
   }
  }
 ],
 "metadata": {
  "kernelspec": {
   "display_name": "Python 3",
   "language": "python",
   "name": "python3"
  },
  "language_info": {
   "codemirror_mode": {
    "name": "ipython",
    "version": 2
   },
   "file_extension": ".py",
   "mimetype": "text/x-python",
   "name": "python",
   "nbconvert_exporter": "python",
   "pygments_lexer": "ipython2",
   "version": "2.7.6"
  }
 },
 "nbformat": 4,
 "nbformat_minor": 0
}
