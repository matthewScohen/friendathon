{
 "cells": [
  {
   "cell_type": "code",
   "execution_count": 1,
   "outputs": [
    {
     "name": "stdout",
     "output_type": "stream",
     "text": [
      "By using this model checkpoint, you acknowledge that its usage is subject to the terms of the CreativeML Open RAIL-M license at https://raw.githubusercontent.com/CompVis/stable-diffusion/main/LICENSE\n"
     ]
    }
   ],
   "source": [
    "import scipy\n",
    "import keras_cv\n",
    "import keras\n",
    "import matplotlib.pyplot as plt\n",
    "from keras import ops\n",
    "import numpy as np\n",
    "import math\n",
    "from PIL import Image\n",
    "\n",
    "# Enable mixed precision\n",
    "# (only do this if you have a recent NVIDIA GPU)\n",
    "keras.mixed_precision.set_global_policy(\"mixed_float16\")\n",
    "\n",
    "# Instantiate the Stable Diffusion model\n",
    "model = keras_cv.models.StableDiffusion(jit_compile=True)"
   ],
   "metadata": {
    "collapsed": false
   }
  },
  {
   "cell_type": "code",
   "execution_count": 3,
   "outputs": [
    {
     "name": "stdout",
     "output_type": "stream",
     "text": [
      "Downloading data from https://github.com/openai/CLIP/blob/main/clip/bpe_simple_vocab_16e6.txt.gz?raw=true\n",
      "\u001B[1m1356917/1356917\u001B[0m \u001B[32m━━━━━━━━━━━━━━━━━━━━\u001B[0m\u001B[37m\u001B[0m \u001B[1m0s\u001B[0m 0us/step\n",
      "WARNING:tensorflow:From C:\\Users\\Owner\\Documents\\projects\\friendathon\\venv\\lib\\site-packages\\keras\\src\\backend\\tensorflow\\core.py:184: The name tf.placeholder is deprecated. Please use tf.compat.v1.placeholder instead.\n",
      "\n",
      "Downloading data from https://huggingface.co/fchollet/stable-diffusion/resolve/main/kcv_encoder.h5\n",
      "\u001B[1m492466864/492466864\u001B[0m \u001B[32m━━━━━━━━━━━━━━━━━━━━\u001B[0m\u001B[37m\u001B[0m \u001B[1m44s\u001B[0m 0us/step\n",
      "Encoding shape: (77, 768)\n"
     ]
    }
   ],
   "source": [
    "prompt_1 = \"A watercolor painting of a Golden Retriever at the beach\"\n",
    "prompt_2 = \"A still life DSLR photo of a bowl of fruit\"\n",
    "interpolation_steps = 5\n",
    "\n",
    "encoding_1 = ops.squeeze(model.encode_text(prompt_1))\n",
    "encoding_2 = ops.squeeze(model.encode_text(prompt_2))\n",
    "\n",
    "interpolated_encodings = ops.linspace(encoding_1, encoding_2, interpolation_steps)\n",
    "\n",
    "# Show the size of the latent manifold\n",
    "print(f\"Encoding shape: {encoding_1.shape}\")"
   ],
   "metadata": {
    "collapsed": false
   }
  },
  {
   "cell_type": "code",
   "execution_count": 55,
   "outputs": [],
   "source": [
    "def word_similarity(word1: str, word2: str, encoding_model) -> float:\n",
    "    encoding1 = encoding_model.encode_text(word1)\n",
    "    encoding2 = encoding_model.encode_text(word2)\n",
    "    distance = scipy.spatial.distance.euclidean(encoding1.flatten(), encoding2.flatten())\n",
    "\n",
    "    return distance"
   ],
   "metadata": {
    "collapsed": false
   }
  },
  {
   "cell_type": "code",
   "execution_count": 66,
   "outputs": [
    {
     "name": "stdout",
     "output_type": "stream",
     "text": [
      "232.1\n"
     ]
    }
   ],
   "source": [
    "word1 = \"toyota\"\n",
    "word2 = \"house\"\n",
    "print(word_similarity(word1, word2, model))"
   ],
   "metadata": {
    "collapsed": false
   }
  },
  {
   "cell_type": "code",
   "execution_count": null,
   "outputs": [],
   "source": [],
   "metadata": {
    "collapsed": false
   }
  }
 ],
 "metadata": {
  "kernelspec": {
   "display_name": "Python 3",
   "language": "python",
   "name": "python3"
  },
  "language_info": {
   "codemirror_mode": {
    "name": "ipython",
    "version": 2
   },
   "file_extension": ".py",
   "mimetype": "text/x-python",
   "name": "python",
   "nbconvert_exporter": "python",
   "pygments_lexer": "ipython2",
   "version": "2.7.6"
  }
 },
 "nbformat": 4,
 "nbformat_minor": 0
}
